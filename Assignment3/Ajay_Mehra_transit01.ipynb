{
 "cells": [
  {
   "cell_type": "markdown",
   "id": "cc82dccd-f18d-4758-9183-81c0ec8196a7",
   "metadata": {},
   "source": [
    "# Calculations for the Space Probe\n"
   ]
  },
  {
   "cell_type": "code",
   "execution_count": 2,
   "id": "90cf47d3-8885-49fc-b15e-a4b56fe5b753",
   "metadata": {},
   "outputs": [],
   "source": [
    "import math\n",
    "import astropy.constants as const\n",
    "import astropy.units as u\n",
    "\n",
    "# Constants\n",
    "R_sun = const.R_sun\n",
    "R_jupiter = 69911 *u.km  \n",
    "R_earth = const.R_earth  \n",
    "d_earth_sun = 1 * u.AU \n",
    "d_jupiter_sun = 5.2 * u.AU \n",
    "F_earth = 1370  *u.W/(u.m**2)\n",
    "F_0 = 2.51802e-8  *u.W/(u.m**2)\n",
    "\n",
    "d_probe_sun = 50 * u.AU  # from sun to probe\n",
    "d_probe_jupiter = d_probe_sun - d_jupiter_sun  # from jupiter to probe\n",
    "d_probe_earth = d_probe_sun - d_earth_sun # from earth to probe"
   ]
  },
  {
   "cell_type": "markdown",
   "id": "1591586a-20be-484c-a7fa-da88971095ca",
   "metadata": {},
   "source": [
    "# a)"
   ]
  },
  {
   "cell_type": "code",
   "execution_count": 3,
   "id": "bdb61b65-02a6-47ff-a0b4-2bfed5853eda",
   "metadata": {},
   "outputs": [
    {
     "name": "stdout",
     "output_type": "stream",
     "text": [
      "Flux at probe: 0.548 W / m2 \n",
      "Bolometric magnitude of the Sun: -18.34\n"
     ]
    }
   ],
   "source": [
    "# Flux at probe\n",
    "F_probe = F_earth * (d_earth_sun / d_probe_sun)**2\n",
    "\n",
    "# Bolometric magnitude of the Sun\n",
    "m_sun = -2.5 * math.log10(F_probe / F_0)\n",
    "\n",
    "print(f\"Flux at probe: {F_probe } \\nBolometric magnitude of the Sun: {m_sun:.2f}\")"
   ]
  },
  {
   "cell_type": "markdown",
   "id": "67c64575-81a5-49b3-ab72-0c75b6e3468d",
   "metadata": {},
   "source": [
    "# b)"
   ]
  },
  {
   "cell_type": "code",
   "execution_count": 4,
   "id": "0ef939bc-3cc3-48c1-bca2-6749844546d1",
   "metadata": {},
   "outputs": [
    {
     "name": "stdout",
     "output_type": "stream",
     "text": [
      "Angular size of Sun at 50 AU from probe 0.0001860186899020866 rad\n"
     ]
    }
   ],
   "source": [
    "# Angular size of the Sun as seen from the space probe\n",
    "theta_sun = 2 * math.atan(R_sun / d_probe_sun) *u.rad\n",
    "print(f\"Angular size of Sun at 50 AU from probe {theta_sun}\")"
   ]
  },
  {
   "cell_type": "markdown",
   "id": "52ac3f0a-c871-4ce4-96c5-da6bf457ea7e",
   "metadata": {},
   "source": [
    "# c)"
   ]
  },
  {
   "cell_type": "code",
   "execution_count": 5,
   "id": "f848fc3f-995b-4f78-bf3c-3b0629459ed8",
   "metadata": {},
   "outputs": [
    {
     "name": "stdout",
     "output_type": "stream",
     "text": [
      "Angular size of Jupiter at 50 AU from probe 2.0862775459283874e-05 rad\n"
     ]
    }
   ],
   "source": [
    "# Angular size of Jupiter as seen from the space probe\n",
    "theta_jupiter = 2 * math.atan(R_jupiter / d_probe_jupiter) *u.rad\n",
    "print(f\"Angular size of Jupiter at 50 AU from probe {theta_jupiter}\")"
   ]
  },
  {
   "cell_type": "markdown",
   "id": "c0bb0650-61a8-4ab0-bb7e-11aff0d223e8",
   "metadata": {},
   "source": [
    "# d)"
   ]
  },
  {
   "cell_type": "code",
   "execution_count": 6,
   "id": "a03601ed-690f-4003-a9bc-f7a8cdfc7920",
   "metadata": {},
   "outputs": [
    {
     "name": "stdout",
     "output_type": "stream",
     "text": [
      "Part of the Sun covered by jupiter is 0.01257856 \n"
     ]
    }
   ],
   "source": [
    "# Part of the Sun covered by Jupiter\n",
    "part_covered_jupiter = theta_jupiter**2/theta_sun**2\n",
    "print(f\"Part of the Sun covered by jupiter is {part_covered_jupiter:.8f} \")"
   ]
  },
  {
   "cell_type": "markdown",
   "id": "1c49ecf9-fc01-447c-bdd1-ab01819ab127",
   "metadata": {},
   "source": [
    "# e)"
   ]
  },
  {
   "cell_type": "code",
   "execution_count": 7,
   "id": "8d07796b-2c39-4025-b004-d406c3f18430",
   "metadata": {},
   "outputs": [
    {
     "name": "stdout",
     "output_type": "stream",
     "text": [
      "Change in magnitude due to Jupiter's transit is 0.01374362 \n"
     ]
    }
   ],
   "source": [
    "# Change in magnitude due to Jupiter's transit\n",
    "delta_m_jupiter = -2.5 * math.log10(1 - part_covered_jupiter)\n",
    "print(f\"Change in magnitude due to Jupiter's transit is {delta_m_jupiter:.8f} \")"
   ]
  },
  {
   "cell_type": "markdown",
   "id": "96e8b0f2-952e-462f-bcfc-d4b7c0f058df",
   "metadata": {},
   "source": [
    "# f)"
   ]
  },
  {
   "cell_type": "code",
   "execution_count": 8,
   "id": "ce8d6ba1-d83d-4ad6-8082-1577e96df50c",
   "metadata": {},
   "outputs": [
    {
     "name": "stdout",
     "output_type": "stream",
     "text": [
      "Change in magnitude due to Earth's transit is : 0.0000950232 \n"
     ]
    }
   ],
   "source": [
    "# Part of the Sun covered by Earth\n",
    "theta_earth = 2 * math.atan(R_earth / d_probe_earth)\n",
    "part_covered_earth = theta_earth**2 / theta_sun**2\n",
    "\n",
    "# Change in magnitude due to Earth's transit\n",
    "delta_m_earth = -2.5 * math.log10(1 - part_covered_earth.value)\n",
    "print(f\"Change in magnitude due to Earth's transit is : {delta_m_earth:.10f} \")"
   ]
  },
  {
   "cell_type": "markdown",
   "id": "41df6ceb-be50-4990-b1ba-74757fcb7e08",
   "metadata": {},
   "source": [
    "# g) Probe at 1pc"
   ]
  },
  {
   "cell_type": "code",
   "execution_count": 9,
   "id": "b8e849d6-86da-4d07-b8b4-445df53907fb",
   "metadata": {},
   "outputs": [],
   "source": [
    "# d_probe_sun changes to 1 pc\n",
    "d_probe_sun = 1* u.pc # from sun to probe \n",
    "d_probe_jupiter = d_probe_sun - d_jupiter_sun  # from jupiter to probe\n",
    "d_probe_earth = d_probe_sun - d_earth_sun # from earth to probe"
   ]
  },
  {
   "cell_type": "code",
   "execution_count": 10,
   "id": "bf58cb7e-e8f3-4c1b-b7d9-0467f51aafc4",
   "metadata": {},
   "outputs": [],
   "source": [
    "# Flux at probe\n",
    "F_probe = F_earth * (d_earth_sun.to(u.pc) / d_probe_sun)**2\n",
    "\n",
    "# Bolometric magnitude of the Sun\n",
    "m_sun = -2.5 * math.log10(F_probe / F_0)\n",
    "\n",
    "# Angular size of the Sun as seen from the space probe\n",
    "theta_sun = 2 * math.atan(R_sun / d_probe_sun) *u.rad\n",
    "\n",
    "# Angular size of Jupiter as seen from the space probe\n",
    "theta_jupiter = 2 * math.atan(R_jupiter / d_probe_jupiter) *u.rad\n",
    "\n",
    "# Part of the Sun covered by Jupiter\n",
    "part_covered_jupiter = theta_jupiter**2/theta_sun**2\n",
    "\n",
    "# Change in magnitude due to Jupiter's transit\n",
    "delta_m_jupiter = -2.5 * math.log10(1 - part_covered_jupiter.value)\n",
    "\n",
    "# Part of the Sun covered by Earth\n",
    "theta_earth = 2 * math.atan(R_earth / d_probe_earth)\n",
    "part_covered_earth = theta_earth**2 / theta_sun**2\n",
    "\n",
    "# Change in magnitude due to Earth's transit\n",
    "delta_m_earth = -2.5 * math.log10(1 - part_covered_earth.value)"
   ]
  },
  {
   "cell_type": "code",
   "execution_count": 11,
   "id": "42b7456d-4094-4fac-88ba-15a8ea3b21df",
   "metadata": {},
   "outputs": [
    {
     "name": "stdout",
     "output_type": "stream",
     "text": [
      "Flux at probe : 3.2201069838564104e-08 W / m2 \n",
      "Bolometric magnitude of the Sun: -0.27\n",
      "Angular size of Sun from probe 4.5092203033328887e-08 rad\n",
      "Angular size of Jupiter from probe 4.531436657016193e-09 rad\n",
      "Part of the Sun covered by jupiter is 0.010098780191503525 \n",
      "Change in magnitude due to Jupiter's transit is 0.01102035 \n",
      "Change in magnitude due to Earth's transit is : 0.0000912610 \n"
     ]
    }
   ],
   "source": [
    "print(f\"Flux at probe : {F_probe } \\nBolometric magnitude of the Sun: {m_sun:.2f}\")\n",
    "print(f\"Angular size of Sun from probe {theta_sun}\")\n",
    "print(f\"Angular size of Jupiter from probe {theta_jupiter}\")\n",
    "print(f\"Part of the Sun covered by jupiter is {part_covered_jupiter} \")\n",
    "print(f\"Change in magnitude due to Jupiter's transit is {delta_m_jupiter:.8f} \")\n",
    "print(f\"Change in magnitude due to Earth's transit is : {delta_m_earth:.10f} \")"
   ]
  },
  {
   "cell_type": "code",
   "execution_count": null,
   "id": "b70c4900-61c4-4517-ae09-ab0754125efa",
   "metadata": {},
   "outputs": [],
   "source": []
  }
 ],
 "metadata": {
  "kernelspec": {
   "display_name": "Python 3 (ipykernel)",
   "language": "python",
   "name": "python3"
  },
  "language_info": {
   "codemirror_mode": {
    "name": "ipython",
    "version": 3
   },
   "file_extension": ".py",
   "mimetype": "text/x-python",
   "name": "python",
   "nbconvert_exporter": "python",
   "pygments_lexer": "ipython3",
   "version": "3.11.4"
  }
 },
 "nbformat": 4,
 "nbformat_minor": 5
}
