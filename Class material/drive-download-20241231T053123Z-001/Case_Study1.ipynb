{
 "cells": [
  {
   "cell_type": "markdown",
   "id": "4fb4d0f9-5813-4840-9628-b3b83094513e",
   "metadata": {},
   "source": [
    "# Case Study : Fitting the BL Lac SED of Mrk 421 #\n",
    "\n",
    "## Learning Outcome ##\n",
    "\n",
    "1. *How real data can be plotted along with errorbars*\n",
    "2. *Use the fitting models available with *agnpy* and apply it on real data*\n",
    "3. *Finally interpret the results obtained and decipher the properties of jets*\n",
    "\n",
    "In this case study we shall use the real Mrk 421 data along with errors due to systematics in the observing instruments and fit the same using *Leptonic Model* (i.e., Synchrotron + Synchrotron self-compton model) for Broken Power-Law particle spectra. \n",
    "Importantly here we will use observational constraints - *--Variablity time scale--* to estimate the properties of the blob.  "
   ]
  },
  {
   "cell_type": "markdown",
   "id": "77453b48-4544-4e1f-af36-655dcf5efcdb",
   "metadata": {},
   "source": [
    "## STEP 1 ##\n",
    "\n",
    "Load all the required modules from standard python - numpy, astropy and matplotlib. \n",
    "\n",
    "From *agnpy* - spectra, plot utilities and *agnpy.fit* the fitting module. \n",
    "\n",
    "Finally modules *sherpa* -- (A Hyperparameter optimization toolkit based on ML) - *fit*, *stats* and *optmethods*."
   ]
  },
  {
   "cell_type": "code",
   "execution_count": 7,
   "id": "464ac16d-3edd-4087-ba7c-c7d8f0d07a2c",
   "metadata": {},
   "outputs": [
    {
     "ename": "ImportError",
     "evalue": "cannot import name 'SynchrotronSelfComptonModel' from 'agnpy.fit' (C:\\Users\\thesi\\AppData\\Local\\Programs\\Python\\Python311\\Lib\\site-packages\\agnpy\\fit\\__init__.py)",
     "output_type": "error",
     "traceback": [
      "\u001b[1;31m---------------------------------------------------------------------------\u001b[0m",
      "\u001b[1;31mImportError\u001b[0m                               Traceback (most recent call last)",
      "Cell \u001b[1;32mIn[7], line 8\u001b[0m\n\u001b[0;32m      6\u001b[0m \u001b[38;5;66;03m# import agnpy classes\u001b[39;00m\n\u001b[0;32m      7\u001b[0m \u001b[38;5;28;01mfrom\u001b[39;00m \u001b[38;5;21;01magnpy\u001b[39;00m\u001b[38;5;21;01m.\u001b[39;00m\u001b[38;5;21;01mspectra\u001b[39;00m \u001b[38;5;28;01mimport\u001b[39;00m BrokenPowerLaw\n\u001b[1;32m----> 8\u001b[0m \u001b[38;5;28;01mfrom\u001b[39;00m \u001b[38;5;21;01magnpy\u001b[39;00m\u001b[38;5;21;01m.\u001b[39;00m\u001b[38;5;21;01mfit\u001b[39;00m \u001b[38;5;28;01mimport\u001b[39;00m SynchrotronSelfComptonModel, load_sherpa_flux_points\n\u001b[0;32m      9\u001b[0m \u001b[38;5;28;01mfrom\u001b[39;00m \u001b[38;5;21;01magnpy\u001b[39;00m\u001b[38;5;21;01m.\u001b[39;00m\u001b[38;5;21;01mutils\u001b[39;00m\u001b[38;5;21;01m.\u001b[39;00m\u001b[38;5;21;01mplot\u001b[39;00m \u001b[38;5;28;01mimport\u001b[39;00m load_mpl_rc, sed_y_label\n\u001b[0;32m     11\u001b[0m load_mpl_rc()\n",
      "\u001b[1;31mImportError\u001b[0m: cannot import name 'SynchrotronSelfComptonModel' from 'agnpy.fit' (C:\\Users\\thesi\\AppData\\Local\\Programs\\Python\\Python311\\Lib\\site-packages\\agnpy\\fit\\__init__.py)"
     ]
    }
   ],
   "source": [
    "# import numpy, astropy and matplotlib for basic functionalities\n",
    "import numpy as np\n",
    "import astropy.units as u\n",
    "import matplotlib.pyplot as plt\n",
    "\n",
    "# import agnpy classes\n",
    "from agnpy.spectra import BrokenPowerLaw\n",
    "from agnpy.fit import SynchrotronSelfComptonModel, load_sherpa_flux_points\n",
    "from agnpy.utils.plot import load_mpl_rc, sed_y_label\n",
    "\n",
    "load_mpl_rc()\n",
    "\n",
    "# import sherpa classes\n",
    "from sherpa.fit import Fit\n",
    "from sherpa.stats import Chi2\n",
    "from sherpa.optmethods import LevMar"
   ]
  },
  {
   "cell_type": "markdown",
   "id": "5362a270-e428-4e8e-afc6-4e479e7ac63e",
   "metadata": {},
   "source": [
    "## STEP 2 ##\n",
    "\n",
    "Define the properties of the electron spectra as Broken Power Law\n",
    "$$N(\\gamma') [cm^{-3}] = k \\left[\n",
    "\\left(\\frac{\\gamma'}{\\gamma'_b}\\right)^{-p_1} \\, H(\\gamma'; \\gamma'_{\\rm min}, \\gamma'_b) +\n",
    "\\left(\\frac{\\gamma'}{\\gamma'_b}\\right)^{-p_2} \\, H(\\gamma'; \\gamma'_{b}, \\gamma'_{\\rm max})\n",
    "\\right]$$\n",
    "\n",
    "where $H(\\gamma)$ is a Heavy-side function used to ensure continuity of the spectra.\n",
    "\n",
    "Finally, define the leptonic model based on Synchrotron (for the first hump) and SSC (for the second hump). Here the important part is to also define the *backend* as sherpa for doing the model fits. \n"
   ]
  },
  {
   "cell_type": "code",
   "execution_count": 8,
   "id": "3daed3f7-2481-4ffd-81f6-cc63f8fde64f",
   "metadata": {},
   "outputs": [
    {
     "ename": "NameError",
     "evalue": "name 'SynchrotronSelfComptonModel' is not defined",
     "output_type": "error",
     "traceback": [
      "\u001b[1;31m---------------------------------------------------------------------------\u001b[0m",
      "\u001b[1;31mNameError\u001b[0m                                 Traceback (most recent call last)",
      "Cell \u001b[1;32mIn[8], line 12\u001b[0m\n\u001b[0;32m      2\u001b[0m n_e \u001b[38;5;241m=\u001b[39m BrokenPowerLaw(\n\u001b[0;32m      3\u001b[0m     k\u001b[38;5;241m=\u001b[39m\u001b[38;5;241m1e-8\u001b[39m \u001b[38;5;241m*\u001b[39m u\u001b[38;5;241m.\u001b[39mUnit(\u001b[38;5;124m\"\u001b[39m\u001b[38;5;124mcm-3\u001b[39m\u001b[38;5;124m\"\u001b[39m),\n\u001b[0;32m      4\u001b[0m     p1\u001b[38;5;241m=\u001b[39m\u001b[38;5;241m2.02\u001b[39m,\n\u001b[1;32m   (...)\u001b[0m\n\u001b[0;32m      8\u001b[0m     gamma_max\u001b[38;5;241m=\u001b[39m\u001b[38;5;241m1e6\u001b[39m,\n\u001b[0;32m      9\u001b[0m )\n\u001b[0;32m     11\u001b[0m \u001b[38;5;66;03m# initialise the sherpa model\u001b[39;00m\n\u001b[1;32m---> 12\u001b[0m ssc_model \u001b[38;5;241m=\u001b[39m \u001b[43mSynchrotronSelfComptonModel\u001b[49m(n_e, backend\u001b[38;5;241m=\u001b[39m\u001b[38;5;124m\"\u001b[39m\u001b[38;5;124msherpa\u001b[39m\u001b[38;5;124m\"\u001b[39m)\n",
      "\u001b[1;31mNameError\u001b[0m: name 'SynchrotronSelfComptonModel' is not defined"
     ]
    }
   ],
   "source": [
    "# electron energy distribution\n",
    "n_e = BrokenPowerLaw(\n",
    "    k=1e-8 * u.Unit(\"cm-3\"),\n",
    "    p1=2.02,\n",
    "    p2=3.43,\n",
    "    gamma_b=1e5,\n",
    "    gamma_min=500,\n",
    "    gamma_max=1e6,\n",
    ")\n",
    "\n",
    "# initialise the sherpa model\n",
    "ssc_model = SynchrotronSelfComptonModel(n_e, backend=\"sherpa\")"
   ]
  },
  {
   "cell_type": "markdown",
   "id": "5ffa1c14-f7f0-4500-b586-03f392056db3",
   "metadata": {},
   "source": [
    "## STEP 3 ##\n",
    "\n",
    "Now give initial constraints to the model based on observations like redshift $z$, approximate Doppler Factor $\\delta_D$ and variablity time scale $t_{\\rm var}$ and some initial guess/value of magnetic field $B$.\n",
    "\n",
    "The size of blob can be obtained using variablity time scale and other quantities as $$ R_b = \\frac{c t_{\\rm var} \\delta_D}{1 + z}$$\n",
    "\n",
    "The advantage of using *sherpa* backend is visible when the model is printed. You can see the range of values that would be used for modelling the different parameter space. "
   ]
  },
  {
   "cell_type": "code",
   "execution_count": 9,
   "id": "830a0fa0-80fa-4407-8902-0fa3ec3b738b",
   "metadata": {},
   "outputs": [
    {
     "ename": "NameError",
     "evalue": "name 'ssc_model' is not defined",
     "output_type": "error",
     "traceback": [
      "\u001b[1;31m---------------------------------------------------------------------------\u001b[0m",
      "\u001b[1;31mNameError\u001b[0m                                 Traceback (most recent call last)",
      "Cell \u001b[1;32mIn[9], line 1\u001b[0m\n\u001b[1;32m----> 1\u001b[0m \u001b[43mssc_model\u001b[49m\u001b[38;5;241m.\u001b[39mz \u001b[38;5;241m=\u001b[39m \u001b[38;5;241m0.0308\u001b[39m\n\u001b[0;32m      2\u001b[0m ssc_model\u001b[38;5;241m.\u001b[39mdelta_D \u001b[38;5;241m=\u001b[39m \u001b[38;5;241m18\u001b[39m\n\u001b[0;32m      3\u001b[0m ssc_model\u001b[38;5;241m.\u001b[39mt_var \u001b[38;5;241m=\u001b[39m (\u001b[38;5;241m1\u001b[39m \u001b[38;5;241m*\u001b[39m u\u001b[38;5;241m.\u001b[39md)\u001b[38;5;241m.\u001b[39mto_value(\u001b[38;5;124m\"\u001b[39m\u001b[38;5;124ms\u001b[39m\u001b[38;5;124m\"\u001b[39m)\n",
      "\u001b[1;31mNameError\u001b[0m: name 'ssc_model' is not defined"
     ]
    }
   ],
   "source": [
    "ssc_model.z = 0.0308\n",
    "ssc_model.delta_D = 18\n",
    "ssc_model.t_var = (1 * u.d).to_value(\"s\")\n",
    "ssc_model.t_var.freeze()\n",
    "ssc_model.log10_B = -1.3"
   ]
  },
  {
   "cell_type": "code",
   "execution_count": 10,
   "id": "a2975e15-5294-4e28-98de-0cc232e3e02a",
   "metadata": {},
   "outputs": [
    {
     "ename": "NameError",
     "evalue": "name 'ssc_model' is not defined",
     "output_type": "error",
     "traceback": [
      "\u001b[1;31m---------------------------------------------------------------------------\u001b[0m",
      "\u001b[1;31mNameError\u001b[0m                                 Traceback (most recent call last)",
      "Cell \u001b[1;32mIn[10], line 1\u001b[0m\n\u001b[1;32m----> 1\u001b[0m \u001b[43mssc_model\u001b[49m\n",
      "\u001b[1;31mNameError\u001b[0m: name 'ssc_model' is not defined"
     ]
    }
   ],
   "source": [
    "ssc_model"
   ]
  },
  {
   "cell_type": "markdown",
   "id": "320e2635-76ab-471d-ad9b-8a412fbb16e9",
   "metadata": {},
   "source": [
    "## STEP 4a ## \n",
    "\n",
    "Get the data from the *ecsv* file (a simple CSV file with meta-data/header). Importantly the flux data from each instrument has error associated with it and this needs to be accounted during fitting process. The dictionary containing systematics is given. \n",
    "\n",
    "Choose a energy range from $E_{\\rm min}$ = h 10$^{11}$ Hz [in eV] to $E_{\\rm max}$ = 100 TeV and obtain the data. "
   ]
  },
  {
   "cell_type": "code",
   "execution_count": null,
   "id": "dd87c817-fe5d-4eee-834d-5eb99c16d5e4",
   "metadata": {},
   "outputs": [],
   "source": [
    "systematics_dict = {\n",
    "    \"Fermi\": 0.10,\n",
    "    \"GASP\": 0.05,\n",
    "    \"GRT\": 0.05,\n",
    "    \"MAGIC\": 0.30,\n",
    "    \"MITSuME\": 0.05,\n",
    "    \"Medicina\": 0.05,\n",
    "    \"Metsahovi\": 0.05,\n",
    "    \"NewMexicoSkies\": 0.05,\n",
    "    \"Noto\": 0.05,\n",
    "    \"OAGH\": 0.05,\n",
    "    \"OVRO\": 0.05,\n",
    "    \"RATAN\": 0.05,\n",
    "    \"ROVOR\": 0.05,\n",
    "    \"RXTE/PCA\": 0.10,\n",
    "    \"SMA\": 0.05,\n",
    "    \"Swift/BAT\": 0.10,\n",
    "    \"Swift/UVOT\": 0.05,\n",
    "    \"Swift/XRT\": 0.10,\n",
    "    \"VLBA(BK150)\": 0.05,\n",
    "    \"VLBA(BP143)\": 0.05,\n",
    "    \"VLBA(MOJAVE)\": 0.05,\n",
    "    \"VLBA_core(BP143)\": 0.05,\n",
    "    \"VLBA_core(MOJAVE)\": 0.05,\n",
    "    \"WIRO\": 0.05,\n",
    "}\n",
    "\n",
    "# define minimum and maximum energy to be used in the fit\n",
    "E_min = (1e11 * u.Hz).to(\"eV\", equivalencies=u.spectral())\n",
    "E_max = 100 * u.TeV\n",
    "\n",
    "sed_path = 'data/Mrk421_2011.ecsv'\n",
    "sed = load_sherpa_flux_points(sed_path, E_min, E_max, systematics_dict)\n"
   ]
  },
  {
   "cell_type": "markdown",
   "id": "957c059a-f31a-4a9b-92ce-d4964e965652",
   "metadata": {},
   "source": [
    "## Step 4b ##\n",
    "\n",
    "Now plot the SED data along with the initial model based on the initial guess of the parameters.\n"
   ]
  },
  {
   "cell_type": "code",
   "execution_count": null,
   "id": "a0e1a548-d993-4fb7-a652-2f7a77b063ef",
   "metadata": {},
   "outputs": [],
   "source": [
    "# array of energies to plot the model\n",
    "E = np.logspace(np.log10(E_min.to_value(\"eV\")), np.log10(E_max.to_value(\"eV\")), 100)\n",
    "\n",
    "fig, ax = plt.subplots(figsize=(8, 6))\n",
    "\n",
    "ax.errorbar(\n",
    "    sed.x,\n",
    "    sed.y,\n",
    "    yerr=sed.get_error(),\n",
    "    marker=\".\",\n",
    "    ls=\"\",\n",
    "    color=\"k\",\n",
    "    label=\"Abdo et al. (2011)\",\n",
    ")\n",
    "ax.loglog(E, ssc_model(E), ls=\"-\", color=\"crimson\", label=\"SSC model\")\n",
    "ax.set_ylabel(sed_y_label)\n",
    "ax.set_xlabel(r\"$E\\,/\\,{\\rm eV}$\")\n",
    "ax.legend()"
   ]
  },
  {
   "cell_type": "markdown",
   "id": "5fee2915-1df3-4a96-86e3-cf89d33fdae4",
   "metadata": {},
   "source": [
    "## Step 5 ##\n",
    "\n",
    "Finally define a fitter function with inputs as follows \n",
    "\n",
    "1. Observation data\n",
    "2. Initial Model\n",
    "3. Statistics to check - Here is Chi-Square statistics for goodness of Fit.\n",
    "4. Method of Optimization - Here is Levenberg-Marquardt optimization (often referred to as LevMar) is a numerical optimization technique used to solve nonlinear least-squares problems."
   ]
  },
  {
   "cell_type": "code",
   "execution_count": null,
   "id": "e56d1413-e4a2-45aa-8510-8217e40de8df",
   "metadata": {},
   "outputs": [],
   "source": [
    "%%time\n",
    "fitter = Fit(sed, ssc_model, stat=Chi2(), method=LevMar())\n",
    "\n",
    "# perform the fit and time it!\n",
    "results = fitter.fit()\n",
    "print(\"Fit succesful = \", results.succeeded)\n",
    "print(results.format())"
   ]
  },
  {
   "cell_type": "markdown",
   "id": "b552bef3-cbf6-475a-9669-c1eba028e3b5",
   "metadata": {},
   "source": [
    "## Step 6 ##\n",
    "\n",
    "Finally overplot the best fit model with the data and observe the difference. \n",
    "Also print the final Model values and interpret the jet parameters.\n"
   ]
  },
  {
   "cell_type": "code",
   "execution_count": null,
   "id": "8e69da4d-68ab-4911-8967-9ca2c3b6fb56",
   "metadata": {},
   "outputs": [],
   "source": [
    "fig, ax = plt.subplots(figsize=(8, 6))\n",
    "\n",
    "ax.errorbar(\n",
    "    sed.x,\n",
    "    sed.y,\n",
    "    yerr=sed.get_error(),\n",
    "    marker=\".\",\n",
    "    ls=\"\",\n",
    "    color=\"k\",\n",
    "    label=\"Abdo et al. (2011)\",\n",
    ")\n",
    "ax.loglog(E, ssc_model(E), ls=\"-\", color=\"crimson\", label=\"SSC model\")\n",
    "ax.set_ylabel(sed_y_label)\n",
    "ax.set_xlabel(r\"$E\\,/\\,{\\rm eV}$\")\n",
    "ax.legend()\n",
    "\n",
    "plt.show()"
   ]
  },
  {
   "cell_type": "code",
   "execution_count": null,
   "id": "7f0cfcf1-4b19-449f-8b0c-236e901126be",
   "metadata": {},
   "outputs": [],
   "source": [
    "ssc_model"
   ]
  },
  {
   "cell_type": "markdown",
   "id": "7102b836-41a7-41a0-a58b-d84f1d899ec1",
   "metadata": {},
   "source": [
    "## TASK ##\n",
    "\n",
    "1. Mrk 421 is a typical Blazar and therefore has an incident angle $\\approx 0$ implying bulk Lorentz factor $\\Gamma \\approx \\delta_D$. \n",
    "From the best model can you estimate the jet kinetic and jet magnetic power? \n",
    "\n",
    "2. Can you attempt to fit the same data with a power-law distribution instead of a Broken power-law distribution? What values of Doppler factor and Jet power you obtain in that case.\n",
    "\n",
    "3. Can the simple Leptonic model based on Synchroton Self-Compton used above either with Broken Power-Law or Simple Power-Law be applied to a FSRQ source PKSPKS1510.? See the *AGNPY Documentation* - https://agnpy.readthedocs.io/en/latest/tutorials/ec_dt_sherpa_fit.html"
   ]
  },
  {
   "cell_type": "code",
   "execution_count": null,
   "id": "44b7abb4-e56c-4858-93ca-c9b05b3007ba",
   "metadata": {},
   "outputs": [],
   "source": []
  }
 ],
 "metadata": {
  "kernelspec": {
   "display_name": "Python 3 (ipykernel)",
   "language": "python",
   "name": "python3"
  },
  "language_info": {
   "codemirror_mode": {
    "name": "ipython",
    "version": 3
   },
   "file_extension": ".py",
   "mimetype": "text/x-python",
   "name": "python",
   "nbconvert_exporter": "python",
   "pygments_lexer": "ipython3",
   "version": "3.11.4"
  }
 },
 "nbformat": 4,
 "nbformat_minor": 5
}
