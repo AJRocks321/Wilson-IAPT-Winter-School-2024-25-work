{
 "cells": [
  {
   "cell_type": "markdown",
   "id": "e0de8e1a-9e76-493c-a840-aa3a1c723aa4",
   "metadata": {},
   "source": [
    "# AstroPy"
   ]
  },
  {
   "cell_type": "code",
   "execution_count": 19,
   "id": "53eb695f-763e-4fe9-82a9-2fb760d6501b",
   "metadata": {},
   "outputs": [],
   "source": [
    "import numpy as np\n",
    "import astropy.units as u\n",
    "import astropy.constants as const"
   ]
  },
  {
   "cell_type": "code",
   "execution_count": 8,
   "id": "7331d5d7-2df6-4f75-acb9-712bfce43063",
   "metadata": {},
   "outputs": [
    {
     "data": {
      "text/latex": [
       "$2 \\; \\mathrm{AU}$"
      ],
      "text/plain": [
       "<Quantity 2. AU>"
      ]
     },
     "execution_count": 8,
     "metadata": {},
     "output_type": "execute_result"
    }
   ],
   "source": [
    "2*u.au"
   ]
  },
  {
   "cell_type": "code",
   "execution_count": 12,
   "id": "da3123b8-3bdf-4b64-9c9a-d3a7d947be76",
   "metadata": {},
   "outputs": [
    {
     "name": "stdout",
     "output_type": "stream",
     "text": [
      "4.0 m2 <class 'astropy.units.quantity.Quantity'>\n"
     ]
    }
   ],
   "source": [
    "a=2*u.m\n",
    "print(a**2,type(a**2))"
   ]
  },
  {
   "cell_type": "code",
   "execution_count": 13,
   "id": "7fc6a845-7806-459f-932c-9e07640047fe",
   "metadata": {},
   "outputs": [
    {
     "data": {
      "text/plain": [
       "PhysicalType('time')"
      ]
     },
     "execution_count": 13,
     "metadata": {},
     "output_type": "execute_result"
    }
   ],
   "source": [
    "u.s.physical_type"
   ]
  },
  {
   "cell_type": "code",
   "execution_count": 15,
   "id": "afb075a3-dc0c-4694-b2a0-752e6334ffab",
   "metadata": {},
   "outputs": [
    {
     "data": {
      "text/latex": [
       "$\\mathrm{\\frac{m^{2}\\,kg}{s^{2}}}$"
      ],
      "text/plain": [
       "Unit(\"m2 kg / s2\")"
      ]
     },
     "execution_count": 15,
     "metadata": {},
     "output_type": "execute_result"
    }
   ],
   "source": [
    "u.Joule.decompose()# breaks into mks"
   ]
  },
  {
   "cell_type": "code",
   "execution_count": 16,
   "id": "d48a2593-252a-4cdd-b515-2a3b5f52df8f",
   "metadata": {},
   "outputs": [
    {
     "data": {
      "text/html": [
       "<table style=\"width:50%\"><tr><th>Primary name</th><th>Unit definition</th><th>Aliases</th></tr><tr><td>J</td><td>m2 kg / s2</td><td>Joule, joule</td></tr><tr><td>Ry</td><td>2.17987e-18 m2 kg / s2</td><td>rydberg</td></tr><tr><td>eV</td><td>1.60218e-19 m2 kg / s2</td><td>electronvolt</td></tr><tr><td>erg</td><td>1e-07 m2 kg / s2</td><td></td></tr><tr><td>foe</td><td>1e+44 m2 kg / s2</td><td>Bethe, bethe</td></tr></table>"
      ],
      "text/plain": [
       "  Primary name | Unit definition        | Aliases     \n",
       "[\n",
       "  J            | m2 kg / s2             | Joule, joule ,\n",
       "  Ry           | 2.17987e-18 m2 kg / s2 | rydberg      ,\n",
       "  eV           | 1.60218e-19 m2 kg / s2 | electronvolt ,\n",
       "  erg          | 1e-07 m2 kg / s2       |              ,\n",
       "  foe          | 1e+44 m2 kg / s2       | Bethe, bethe ,\n",
       "]"
      ]
     },
     "execution_count": 16,
     "metadata": {},
     "output_type": "execute_result"
    }
   ],
   "source": [
    "u.Joule.find_equivalent_units()"
   ]
  },
  {
   "cell_type": "code",
   "execution_count": 18,
   "id": "b3806893-8306-4918-b7e7-c2afd0f3bd8a",
   "metadata": {},
   "outputs": [
    {
     "data": {
      "text/html": [
       "<table style=\"width:50%\"><tr><th>Primary name</th><th>Unit definition</th><th>Aliases</th></tr><tr><td>N</td><td>kg m / s2</td><td>Newton, newton</td></tr><tr><td>dyn</td><td>1e-05 kg m / s2</td><td>dyne</td></tr></table>"
      ],
      "text/plain": [
       "  Primary name | Unit definition | Aliases       \n",
       "[\n",
       "  N            | kg m / s2       | Newton, newton ,\n",
       "  dyn          | 1e-05 kg m / s2 | dyne           ,\n",
       "]"
      ]
     },
     "execution_count": 18,
     "metadata": {},
     "output_type": "execute_result"
    }
   ],
   "source": [
    "u.newton.find_equivalent_units()"
   ]
  },
  {
   "cell_type": "code",
   "execution_count": 32,
   "id": "55743fd0-bad3-4cfc-b6f3-7f4edb37aa5c",
   "metadata": {},
   "outputs": [],
   "source": [
    "G = const.G\n",
    "r = const.R_earth\n",
    "r1 = u.R_earth\n",
    "M = const.M_earth\n",
    "v = np.sqrt((G * M)/r)\n"
   ]
  },
  {
   "cell_type": "code",
   "execution_count": 29,
   "id": "cdeb153c-c5b2-4c86-97f1-cd07d9e781de",
   "metadata": {},
   "outputs": [
    {
     "data": {
      "text/latex": [
       "$7905.3882 \\; \\mathrm{\\frac{m}{s}}$"
      ],
      "text/plain": [
       "<Quantity 7905.38823439 m / s>"
      ]
     },
     "execution_count": 29,
     "metadata": {},
     "output_type": "execute_result"
    }
   ],
   "source": [
    "v #v.decompose() if units are baddddd"
   ]
  },
  {
   "cell_type": "code",
   "execution_count": 30,
   "id": "22e08a40-b21c-4b44-8430-423e36631549",
   "metadata": {},
   "outputs": [
    {
     "data": {
      "text/latex": [
       "$7.9053882 \\; \\mathrm{\\frac{km}{s}}$"
      ],
      "text/plain": [
       "<Quantity 7.90538823 km / s>"
      ]
     },
     "execution_count": 30,
     "metadata": {},
     "output_type": "execute_result"
    }
   ],
   "source": [
    "v.to(u.km/u.s) # if other wrong units used it will return error"
   ]
  },
  {
   "cell_type": "code",
   "execution_count": 31,
   "id": "eb431248-a62d-48e8-a73b-8c21698b647b",
   "metadata": {},
   "outputs": [
    {
     "data": {
      "text/latex": [
       "$106.79679 \\; \\mathrm{\\frac{R_{\\oplus}}{sday}}$"
      ],
      "text/plain": [
       "<Quantity 106.79678705 earthRad / sday>"
      ]
     },
     "execution_count": 31,
     "metadata": {},
     "output_type": "execute_result"
    }
   ],
   "source": [
    "v.to(u.R_earth/u.sday)"
   ]
  },
  {
   "cell_type": "markdown",
   "id": "0763a834-71e9-4065-a510-f41a5f6de355",
   "metadata": {},
   "source": [
    "$$L=4*\\pi*r^2* S*\\del *v$$\n",
    "Luminosity"
   ]
  },
  {
   "cell_type": "code",
   "execution_count": 36,
   "id": "7d7c4264-b3f9-4ae7-a1a1-db48c7c3cd2d",
   "metadata": {},
   "outputs": [
    {
     "data": {
      "text/latex": [
       "$3 \\; \\mathrm{m}$"
      ],
      "text/plain": [
       "<Quantity 3. m>"
      ]
     },
     "execution_count": 36,
     "metadata": {},
     "output_type": "execute_result"
    }
   ],
   "source": [
    "distance=[1,2,3,4,5]*u.m\n",
    "distance[2]"
   ]
  },
  {
   "cell_type": "code",
   "execution_count": 40,
   "id": "96f90f60-7f07-4456-8fe3-0fb39c4b3154",
   "metadata": {},
   "outputs": [
    {
     "name": "stdout",
     "output_type": "stream",
     "text": [
      "1e+07 cm2 g / s2\n",
      "{Unit(\"s\"), Unit(\"kg\"), Unit(\"rad\"), Unit(\"cd\"), Unit(\"m\"), Unit(\"K\"), Unit(\"A\"), Unit(\"mol\")}\n",
      "{Unit(\"s\"), Unit(\"rad\"), Unit(\"cm\"), Unit(\"cd\"), Unit(\"g\"), Unit(\"K\"), Unit(\"mol\")}\n"
     ]
    }
   ],
   "source": [
    "print(u.J.decompose(u.cgs.bases))\n",
    "print(u.si.bases)\n",
    "print(u.cgs.bases)"
   ]
  },
  {
   "cell_type": "code",
   "execution_count": 42,
   "id": "706c4934-0be7-443a-9319-e7714abf3726",
   "metadata": {},
   "outputs": [
    {
     "data": {
      "text/latex": [
       "$0.5 \\; \\mathrm{}$"
      ],
      "text/plain": [
       "<Quantity 0.5>"
      ]
     },
     "execution_count": 42,
     "metadata": {},
     "output_type": "execute_result"
    }
   ],
   "source": [
    "np.sin(30*u.degree)"
   ]
  },
  {
   "cell_type": "code",
   "execution_count": 43,
   "id": "ac1b4f04-b4f0-460e-8a06-9d8de664cb76",
   "metadata": {},
   "outputs": [
    {
     "data": {
      "text/latex": [
       "$1 \\; \\mathrm{m}$"
      ],
      "text/plain": [
       "<Quantity 1. m>"
      ]
     },
     "execution_count": 43,
     "metadata": {},
     "output_type": "execute_result"
    }
   ],
   "source": [
    "np.sqrt(1*u.m*u.m)#unit "
   ]
  },
  {
   "cell_type": "code",
   "execution_count": 45,
   "id": "2b851f57-4aae-4834-931f-709e4d0e3374",
   "metadata": {},
   "outputs": [
    {
     "name": "stdout",
     "output_type": "stream",
     "text": [
      "  Name   = Gravitational constant\n",
      "  Value  = 6.6743e-11\n",
      "  Uncertainty  = 1.5e-15\n",
      "  Unit  = m3 / (kg s2)\n",
      "  Reference = CODATA 2018\n"
     ]
    }
   ],
   "source": [
    "print(const.G)#data about constants"
   ]
  },
  {
   "cell_type": "markdown",
   "id": "ed359e70-3695-4ff1-9986-bd364c996b2a",
   "metadata": {},
   "source": [
    "# Equivalencies, \n",
    "can creat custom equivalencies"
   ]
  },
  {
   "cell_type": "code",
   "execution_count": 47,
   "id": "e14f3e69-1439-44f9-86cb-d18480eb41ab",
   "metadata": {},
   "outputs": [
    {
     "data": {
      "text/latex": [
       "$0.51099895 \\; \\mathrm{MeV}$"
      ],
      "text/plain": [
       "<Quantity 0.51099895 MeV>"
      ]
     },
     "execution_count": 47,
     "metadata": {},
     "output_type": "execute_result"
    }
   ],
   "source": [
    "#Equivalancies >mass energy equivalencies\n",
    "#need not to write equivalencies 3rd one is equivalencies\n",
    "(const.m_e).to(u.MeV, equivalencies=u.mass_energy())"
   ]
  },
  {
   "cell_type": "code",
   "execution_count": 48,
   "id": "f82efe4e-a47e-4145-9f3a-747cd38e972c",
   "metadata": {},
   "outputs": [],
   "source": [
    "#arcsec to parsec\n"
   ]
  },
  {
   "cell_type": "code",
   "execution_count": null,
   "id": "686fd120-f22c-48f5-93d1-056a17e230aa",
   "metadata": {},
   "outputs": [],
   "source": [
    "z=0.4* u.dimensionless_unscaled # need to specify this\n",
    "z.to()"
   ]
  },
  {
   "cell_type": "code",
   "execution_count": 51,
   "id": "c22655d8-ed52-4ca7-bd68-a6271b027e66",
   "metadata": {},
   "outputs": [
    {
     "data": {
      "text/html": [
       "<table style=\"width:50%\"><tr><th>Primary name</th><th>Unit definition</th><th>Aliases</th></tr><tr><td>AU</td><td>1.49598e+11 m</td><td>au, astronomical_unit</td></tr><tr><td>Angstrom</td><td>1e-10 m</td><td>AA, angstrom</td></tr><tr><td>Bq</td><td>1 / s</td><td>becquerel</td></tr><tr><td>Ci</td><td>3.7e+10 / s</td><td>curie</td></tr><tr><td>Hz</td><td>1 / s</td><td>Hertz, hertz</td></tr><tr><td>J</td><td>m2 kg / s2</td><td>Joule, joule</td></tr><tr><td>Ry</td><td>2.17987e-18 m2 kg / s2</td><td>rydberg</td></tr><tr><td>cm</td><td>0.01 m</td><td>centimeter</td></tr><tr><td>eV</td><td>1.60218e-19 m2 kg / s2</td><td>electronvolt</td></tr><tr><td>earthRad</td><td>6.3781e+06 m</td><td>R_earth, Rearth</td></tr><tr><td>erg</td><td>1e-07 m2 kg / s2</td><td></td></tr><tr><td>foe</td><td>1e+44 m2 kg / s2</td><td>Bethe, bethe</td></tr><tr><td>jupiterRad</td><td>7.1492e+07 m</td><td>R_jup, Rjup, R_jupiter, Rjupiter</td></tr><tr><td>k</td><td>100 / m</td><td>Kayser, kayser</td></tr><tr><td>lsec</td><td>2.99792e+08 m</td><td>lightsecond</td></tr><tr><td>lyr</td><td>9.46073e+15 m</td><td>lightyear</td></tr><tr><td>m</td><td>irreducible</td><td>meter</td></tr><tr><td>micron</td><td>1e-06 m</td><td></td></tr><tr><td>pc</td><td>3.08568e+16 m</td><td>parsec</td></tr><tr><td>solRad</td><td>6.957e+08 m</td><td>R_sun, Rsun</td></tr></table>"
      ],
      "text/plain": [
       "  Primary name | Unit definition        | Aliases                         \n",
       "[\n",
       "  AU           | 1.49598e+11 m          | au, astronomical_unit            ,\n",
       "  Angstrom     | 1e-10 m                | AA, angstrom                     ,\n",
       "  Bq           | 1 / s                  | becquerel                        ,\n",
       "  Ci           | 3.7e+10 / s            | curie                            ,\n",
       "  Hz           | 1 / s                  | Hertz, hertz                     ,\n",
       "  J            | m2 kg / s2             | Joule, joule                     ,\n",
       "  Ry           | 2.17987e-18 m2 kg / s2 | rydberg                          ,\n",
       "  cm           | 0.01 m                 | centimeter                       ,\n",
       "  eV           | 1.60218e-19 m2 kg / s2 | electronvolt                     ,\n",
       "  earthRad     | 6.3781e+06 m           | R_earth, Rearth                  ,\n",
       "  erg          | 1e-07 m2 kg / s2       |                                  ,\n",
       "  foe          | 1e+44 m2 kg / s2       | Bethe, bethe                     ,\n",
       "  jupiterRad   | 7.1492e+07 m           | R_jup, Rjup, R_jupiter, Rjupiter ,\n",
       "  k            | 100 / m                | Kayser, kayser                   ,\n",
       "  lsec         | 2.99792e+08 m          | lightsecond                      ,\n",
       "  lyr          | 9.46073e+15 m          | lightyear                        ,\n",
       "  m            | irreducible            | meter                            ,\n",
       "  micron       | 1e-06 m                |                                  ,\n",
       "  pc           | 3.08568e+16 m          | parsec                           ,\n",
       "  solRad       | 6.957e+08 m            | R_sun, Rsun                      ,\n",
       "]"
      ]
     },
     "execution_count": 51,
     "metadata": {},
     "output_type": "execute_result"
    }
   ],
   "source": [
    "u.Hz.find_equivalent_units(equivalencies=u.spectral())"
   ]
  },
  {
   "cell_type": "code",
   "execution_count": null,
   "id": "7bcca8b6-3b5d-47ee-be27-b30fb1f78311",
   "metadata": {},
   "outputs": [],
   "source": []
  },
  {
   "cell_type": "markdown",
   "id": "60a9d28a-7010-4eb8-b7cc-cd0cdef4f84b",
   "metadata": {},
   "source": [
    "# Astropy coordinates"
   ]
  },
  {
   "cell_type": "code",
   "execution_count": 53,
   "id": "dd5eea88-76ca-414b-8aa1-753a57adffa5",
   "metadata": {},
   "outputs": [],
   "source": [
    "from astropy.coordinates import SkyCoord"
   ]
  },
  {
   "cell_type": "code",
   "execution_count": 58,
   "id": "de825ee8-7d05-41de-a86d-e494b1d6d8e7",
   "metadata": {},
   "outputs": [],
   "source": [
    "pleiades=SkyCoord(ra=34,dec=24.11,frame='icrs',unit='deg')#icrs is plane of ref"
   ]
  },
  {
   "cell_type": "code",
   "execution_count": 64,
   "id": "5e3e9279-6d08-4852-bc3a-25077e2a44d5",
   "metadata": {},
   "outputs": [],
   "source": [
    "m=SkyCoord(ra=34,dec=24.11,frame='icrs',unit='deg')#icrs is plane of ref\n",
    "sepration=pleiades.separation(m)#this is angular sepration"
   ]
  },
  {
   "cell_type": "code",
   "execution_count": 63,
   "id": "a1faaecb-974b-48f4-b6af-d6d971dfd07c",
   "metadata": {},
   "outputs": [
    {
     "data": {
      "text/latex": [
       "$0^\\circ00{}^\\prime00{}^{\\prime\\prime}$"
      ],
      "text/plain": [
       "<Angle 0. deg>"
      ]
     },
     "execution_count": 63,
     "metadata": {},
     "output_type": "execute_result"
    }
   ],
   "source": [
    "sepration\n",
    "#from_name function\n",
    "#can also use distance define it maybe to find sepration3d"
   ]
  },
  {
   "cell_type": "code",
   "execution_count": 65,
   "id": "265c39eb-bb53-4e57-82cf-0ca668e7c17c",
   "metadata": {},
   "outputs": [
    {
     "ename": "SyntaxError",
     "evalue": "invalid syntax (1333412511.py, line 1)",
     "output_type": "error",
     "traceback": [
      "\u001b[1;36m  Cell \u001b[1;32mIn[65], line 1\u001b[1;36m\u001b[0m\n\u001b[1;33m    can convert to galactic coordinates\u001b[0m\n\u001b[1;37m        ^\u001b[0m\n\u001b[1;31mSyntaxError\u001b[0m\u001b[1;31m:\u001b[0m invalid syntax\n"
     ]
    }
   ],
   "source": [
    "#can convert to galactic coordinates"
   ]
  },
  {
   "cell_type": "markdown",
   "id": "8832f45d-1719-414a-b0e7-f8041c88587e",
   "metadata": {},
   "source": [
    "from astropy.coordinates import "
   ]
  },
  {
   "cell_type": "code",
   "execution_count": null,
   "id": "70c16e3f-6942-46c0-8a60-330df179e4df",
   "metadata": {},
   "outputs": [],
   "source": [
    "from astropy.coordinates import AltAz\n",
    "from astropy.time import Time\n",
    "from astropy.coordinates import EarthLocation"
   ]
  },
  {
   "cell_type": "code",
   "execution_count": 67,
   "id": "127c8647-ca9e-4d17-ad55-13e02aa5c3b4",
   "metadata": {},
   "outputs": [
    {
     "ename": "NameError",
     "evalue": "name 'EarthLocation' is not defined",
     "output_type": "error",
     "traceback": [
      "\u001b[1;31m---------------------------------------------------------------------------\u001b[0m",
      "\u001b[1;31mNameError\u001b[0m                                 Traceback (most recent call last)",
      "Cell \u001b[1;32mIn[67], line 1\u001b[0m\n\u001b[1;32m----> 1\u001b[0m harle\u001b[38;5;241m=\u001b[39m\u001b[43mEarthLocation\u001b[49m\u001b[38;5;241m.\u001b[39mof_site(\u001b[38;5;124m'\u001b[39m\u001b[38;5;124mIndian Astronomical Observatory\u001b[39m\u001b[38;5;124m'\u001b[39m)\n",
      "\u001b[1;31mNameError\u001b[0m: name 'EarthLocation' is not defined"
     ]
    }
   ],
   "source": [
    "harle=EarthLocation.of_site('Indian Astronomical Observatory')"
   ]
  },
  {
   "cell_type": "code",
   "execution_count": 1,
   "id": "1d948684-82b8-4600-9c56-012546419d93",
   "metadata": {},
   "outputs": [],
   "source": [
    "#Altaz altitude azimuth"
   ]
  },
  {
   "cell_type": "code",
   "execution_count": null,
   "id": "818e5a07-ea52-4115-a2e3-6449d7f56fb2",
   "metadata": {},
   "outputs": [],
   "source": []
  },
  {
   "cell_type": "code",
   "execution_count": null,
   "id": "7cf1fa21-9e13-46a1-9745-c3152e8f1bb1",
   "metadata": {},
   "outputs": [],
   "source": []
  },
  {
   "cell_type": "markdown",
   "id": "15ecc5f1-29f0-49c1-8e27-b29aeb74738f",
   "metadata": {},
   "source": [
    "# Lecture 2"
   ]
  },
  {
   "cell_type": "code",
   "execution_count": 4,
   "id": "13cbf1bc-9472-4957-9044-239075258a6b",
   "metadata": {},
   "outputs": [],
   "source": [
    "import numpy as np\n",
    "import matplotlib.pyplot as plt\n",
    "from scipy.optimize import curve_fit"
   ]
  },
  {
   "cell_type": "markdown",
   "id": "94cfd6fe-c832-4e74-801b-a25b11bfd7d5",
   "metadata": {},
   "source": [
    "# step for model fitting\n",
    "\n",
    "1- define model \n",
    "\n",
    "2- using a fitting algo to find best parameter\n",
    "\n",
    "3- Evaluate the fit"
   ]
  },
  {
   "cell_type": "code",
   "execution_count": 46,
   "id": "2779607f-053b-4a1f-bad8-db3a581667ad",
   "metadata": {},
   "outputs": [
    {
     "data": {
      "text/plain": [
       "<matplotlib.collections.PathCollection at 0x200e7fd6dd0>"
      ]
     },
     "execution_count": 46,
     "metadata": {},
     "output_type": "execute_result"
    },
    {
     "data": {
      "image/png": "[encoded data removed]",
      "text/plain": [
       "<Figure size 640x480 with 1 Axes>"
      ]
     },
     "metadata": {},
     "output_type": "display_data"
    }
   ],
   "source": [
    "#data initiation\n",
    "x_data=np.array([1,2,3,4,5])\n",
    "y_data=np.array([2.1,4.4,6,7.5,10])\n",
    "plt.scatter(x_data,y_data,marker='+')"
   ]
  },
  {
   "cell_type": "code",
   "execution_count": 47,
   "id": "69189553-3e3e-4841-9154-ac813a870cef",
   "metadata": {},
   "outputs": [],
   "source": [
    "def linear_model(x, m, c):\n",
    "    return m*x+ c"
   ]
  },
  {
   "cell_type": "code",
   "execution_count": 48,
   "id": "44cb168f-101e-4776-a7be-1d1dfaa51ab0",
   "metadata": {},
   "outputs": [],
   "source": [
    "params, covariance=curve_fit(f=linear_model, xdata=x_data, ydata=y_data )"
   ]
  },
  {
   "cell_type": "code",
   "execution_count": 49,
   "id": "34b85a92-71de-4d2e-8b46-eb3fcaaaa2da",
   "metadata": {},
   "outputs": [
    {
     "data": {
      "text/plain": [
       "(array([1.89, 0.33]),\n",
       " array([[ 0.00996666, -0.02989999],\n",
       "        [-0.02989999,  0.10963331]]))"
      ]
     },
     "execution_count": 49,
     "metadata": {},
     "output_type": "execute_result"
    }
   ],
   "source": [
    "params, covariance"
   ]
  },
  {
   "cell_type": "code",
   "execution_count": 50,
   "id": "20eb82ff-6911-47d4-a13d-4fd975e289ef",
   "metadata": {},
   "outputs": [
    {
     "data": {
      "text/plain": [
       "[<matplotlib.lines.Line2D at 0x200e7fe8090>]"
      ]
     },
     "execution_count": 50,
     "metadata": {},
     "output_type": "execute_result"
    },
    {
     "data": {
      "image/png": "[encoded data removed]",
      "text/plain": [
       "<Figure size 640x480 with 1 Axes>"
      ]
     },
     "metadata": {},
     "output_type": "display_data"
    }
   ],
   "source": [
    "x=np.linspace(0,6,100)\n",
    "plt.scatter(x_data,y_data,marker='+')\n",
    "plt.plot(x,linear_model(x,params[0],params[1]),color='r')"
   ]
  },
  {
   "cell_type": "code",
   "execution_count": 51,
   "id": "af0237c6-92a5-45ec-9b73-2e02885e4587",
   "metadata": {},
   "outputs": [],
   "source": [
    "#quadratic model\n",
    "def quad_model(x,a,b,c):\n",
    "    return a*x**2+b*x+c\n",
    "    "
   ]
  },
  {
   "cell_type": "code",
   "execution_count": 52,
   "id": "986af4b1-14d6-4efb-a2ea-ff625d315b40",
   "metadata": {},
   "outputs": [
    {
     "data": {
      "text/plain": [
       "[<matplotlib.lines.Line2D at 0x200e80d0b10>]"
      ]
     },
     "execution_count": 52,
     "metadata": {},
     "output_type": "execute_result"
    },
    {
     "data": {
      "image/png": "[encoded data removed]",
      "text/plain": [
       "<Figure size 640x480 with 1 Axes>"
      ]
     },
     "metadata": {},
     "output_type": "display_data"
    }
   ],
   "source": [
    "x_data=np.linspace(-10,10,50)\n",
    "y_data = 3*x_data**2-2*x_data+5+np.random.normal(0,10,len(x_data))\n",
    "plt.plot(x_data,y_data)"
   ]
  },
  {
   "cell_type": "code",
   "execution_count": 53,
   "id": "93866a56-f1ba-40b7-a8ff-5bc10a3996c8",
   "metadata": {},
   "outputs": [
    {
     "data": {
      "text/plain": [
       "[<matplotlib.lines.Line2D at 0x200e8143350>]"
      ]
     },
     "execution_count": 53,
     "metadata": {},
     "output_type": "execute_result"
    },
    {
     "data": {
      "image/png": "[encoded data removed]",
      "text/plain": [
       "<Figure size 640x480 with 1 Axes>"
      ]
     },
     "metadata": {},
     "output_type": "display_data"
    }
   ],
   "source": [
    "params,covariance=curve_fit(f=quad_model, xdata=x_data, ydata=y_data )\n",
    "x=np.linspace(-10,10,1000)\n",
    "plt.scatter(x_data,y_data,marker='+')\n",
    "plt.plot(x,quad_model(x,params[0],params[1],params[2]),color='r')"
   ]
  },
  {
   "cell_type": "markdown",
   "id": "a6415512-a038-43b1-bf52-0d81a9e841db",
   "metadata": {},
   "source": [
    "# Residuals"
   ]
  },
  {
   "cell_type": "code",
   "execution_count": 62,
   "id": "f97f20ff-3e85-49a9-9ac1-42efd8c126ac",
   "metadata": {},
   "outputs": [
    {
     "data": {
      "image/png": "[encoded data removed]",
      "text/plain": [
       "<Figure size 640x480 with 1 Axes>"
      ]
     },
     "metadata": {},
     "output_type": "display_data"
    }
   ],
   "source": [
    "residuals=quad_model(x_data,params[0],params[1],params[2])-y_data\n",
    "plt.scatter(x_data,residuals,color='red',marker=\"+\")\n",
    "plt.plot(x_data,np.zeros(len(x_data)))\n",
    "plt.ylabel(\"Residuals\")\n",
    "plt.grid()"
   ]
  },
  {
   "cell_type": "markdown",
   "id": "ee2f0feb-8348-4285-b926-b7dab7ef3015",
   "metadata": {},
   "source": [
    "# Pandas"
   ]
  },
  {
   "cell_type": "code",
   "execution_count": 64,
   "id": "ba863c91-c37b-4eac-bb51-58347e13577a",
   "metadata": {},
   "outputs": [],
   "source": [
    "import pandas as pd\n",
    "import matplotlib.pyplot as plt"
   ]
  },
  {
   "cell_type": "code",
   "execution_count": 67,
   "id": "8b61f759-9356-4f36-a269-bb1bb5853b43",
   "metadata": {},
   "outputs": [],
   "source": [
    "#reading data\n",
    "df = pd.read_csv(\"Cepheids.csv\") # 7269 x 8"
   ]
  },
  {
   "cell_type": "code",
   "execution_count": 71,
   "id": "70f2d614-5c8c-45d7-a0ef-06021ea690a7",
   "metadata": {},
   "outputs": [
    {
     "data": {
      "text/plain": [
       "Mode\n",
       "F    4409\n",
       "1    2860\n",
       "Name: count, dtype: int64"
      ]
     },
     "execution_count": 71,
     "metadata": {},
     "output_type": "execute_result"
    }
   ],
   "source": [
    "df['Mode'].value_counts()"
   ]
  },
  {
   "cell_type": "code",
   "execution_count": 75,
   "id": "4259e687-40fb-4c43-b775-c778619765d9",
   "metadata": {},
   "outputs": [
    {
     "name": "stdout",
     "output_type": "stream",
     "text": [
      "                name       RA0     Decl0 Mode Cloud         W     logP1     VI\n",
      "0  OGLE-LMC-CEP-0002  4.529733 -69.81933    F   LMC  14.52500  0.493893  0.740\n",
      "1  OGLE-LMC-CEP-0005  4.592089 -69.73497    F   LMC  13.49540  0.749122  0.752\n",
      "2  OGLE-LMC-CEP-0012  4.630203 -67.21442    F   LMC  14.54210  0.424912  0.598\n",
      "3  OGLE-LMC-CEP-0016  4.642367 -67.64631    F   LMC  12.03300  1.021456  1.080\n",
      "4  OGLE-LMC-CEP-0017  4.649119 -69.68839    F   LMC  14.34215  0.565524  0.647\n",
      "5  OGLE-LMC-CEP-0018  4.649717 -68.95689    F   LMC  13.93705  0.607225  0.829\n",
      "6  OGLE-LMC-CEP-0021  4.658600 -69.26183    F   LMC  13.53005  0.737032  0.769\n",
      "7  OGLE-LMC-CEP-0023  4.679856 -68.98564    F   LMC  15.21055  0.230915  0.719\n",
      "8  OGLE-LMC-CEP-0025  4.681769 -69.11508    F   LMC  14.08130  0.572116  0.814\n",
      "9  OGLE-LMC-CEP-0026  4.686733 -68.79975    F   LMC  14.51275  0.410047  0.615\n"
     ]
    }
   ],
   "source": [
    "#first few rows\n",
    "print(df.head(10))"
   ]
  },
  {
   "cell_type": "code",
   "execution_count": 76,
   "id": "4820f07b-b05b-460d-ae4f-0b1341159704",
   "metadata": {},
   "outputs": [
    {
     "name": "stdout",
     "output_type": "stream",
     "text": [
      "<class 'pandas.core.frame.DataFrame'>\n",
      "RangeIndex: 7269 entries, 0 to 7268\n",
      "Data columns (total 8 columns):\n",
      " #   Column  Non-Null Count  Dtype  \n",
      "---  ------  --------------  -----  \n",
      " 0   name    7269 non-null   object \n",
      " 1   RA0     7269 non-null   float64\n",
      " 2   Decl0   7269 non-null   float64\n",
      " 3   Mode    7269 non-null   object \n",
      " 4   Cloud   7269 non-null   object \n",
      " 5   W       7269 non-null   float64\n",
      " 6   logP1   7269 non-null   float64\n",
      " 7   VI      7269 non-null   float64\n",
      "dtypes: float64(5), object(3)\n",
      "memory usage: 454.4+ KB\n"
     ]
    }
   ],
   "source": [
    "df.info()"
   ]
  },
  {
   "cell_type": "code",
   "execution_count": 82,
   "id": "3d90d779-1835-446d-b86f-7e4cc8c17b28",
   "metadata": {},
   "outputs": [
    {
     "data": {
      "text/html": [
       "<div>\n",
       "<style scoped>\n",
       "    .dataframe tbody tr th:only-of-type {\n",
       "        vertical-align: middle;\n",
       "    }\n",
       "\n",
       "    .dataframe tbody tr th {\n",
       "        vertical-align: top;\n",
       "    }\n",
       "\n",
       "    .dataframe thead th {\n",
       "        text-align: right;\n",
       "    }\n",
       "</style>\n",
       "<table border=\"1\" class=\"dataframe\">\n",
       "  <thead>\n",
       "    <tr style=\"text-align: right;\">\n",
       "      <th></th>\n",
       "      <th>name</th>\n",
       "      <th>RA0</th>\n",
       "      <th>Decl0</th>\n",
       "      <th>Mode</th>\n",
       "      <th>Cloud</th>\n",
       "      <th>W</th>\n",
       "      <th>logP1</th>\n",
       "      <th>VI</th>\n",
       "    </tr>\n",
       "  </thead>\n",
       "  <tbody>\n",
       "    <tr>\n",
       "      <th>0</th>\n",
       "      <td>OGLE-LMC-CEP-0002</td>\n",
       "      <td>4.529733</td>\n",
       "      <td>-69.819330</td>\n",
       "      <td>F</td>\n",
       "      <td>LMC</td>\n",
       "      <td>14.52500</td>\n",
       "      <td>0.493893</td>\n",
       "      <td>0.740</td>\n",
       "    </tr>\n",
       "    <tr>\n",
       "      <th>2</th>\n",
       "      <td>OGLE-LMC-CEP-0012</td>\n",
       "      <td>4.630203</td>\n",
       "      <td>-67.214420</td>\n",
       "      <td>F</td>\n",
       "      <td>LMC</td>\n",
       "      <td>14.54210</td>\n",
       "      <td>0.424912</td>\n",
       "      <td>0.598</td>\n",
       "    </tr>\n",
       "    <tr>\n",
       "      <th>4</th>\n",
       "      <td>OGLE-LMC-CEP-0017</td>\n",
       "      <td>4.649119</td>\n",
       "      <td>-69.688390</td>\n",
       "      <td>F</td>\n",
       "      <td>LMC</td>\n",
       "      <td>14.34215</td>\n",
       "      <td>0.565524</td>\n",
       "      <td>0.647</td>\n",
       "    </tr>\n",
       "    <tr>\n",
       "      <th>7</th>\n",
       "      <td>OGLE-LMC-CEP-0023</td>\n",
       "      <td>4.679856</td>\n",
       "      <td>-68.985640</td>\n",
       "      <td>F</td>\n",
       "      <td>LMC</td>\n",
       "      <td>15.21055</td>\n",
       "      <td>0.230915</td>\n",
       "      <td>0.719</td>\n",
       "    </tr>\n",
       "    <tr>\n",
       "      <th>8</th>\n",
       "      <td>OGLE-LMC-CEP-0025</td>\n",
       "      <td>4.681769</td>\n",
       "      <td>-69.115080</td>\n",
       "      <td>F</td>\n",
       "      <td>LMC</td>\n",
       "      <td>14.08130</td>\n",
       "      <td>0.572116</td>\n",
       "      <td>0.814</td>\n",
       "    </tr>\n",
       "    <tr>\n",
       "      <th>...</th>\n",
       "      <td>...</td>\n",
       "      <td>...</td>\n",
       "      <td>...</td>\n",
       "      <td>...</td>\n",
       "      <td>...</td>\n",
       "      <td>...</td>\n",
       "      <td>...</td>\n",
       "      <td>...</td>\n",
       "    </tr>\n",
       "    <tr>\n",
       "      <th>7261</th>\n",
       "      <td>OGLE-SMC-CEP-4615</td>\n",
       "      <td>1.381036</td>\n",
       "      <td>-72.950861</td>\n",
       "      <td>1</td>\n",
       "      <td>SMC</td>\n",
       "      <td>15.83360</td>\n",
       "      <td>-0.080684</td>\n",
       "      <td>0.448</td>\n",
       "    </tr>\n",
       "    <tr>\n",
       "      <th>7264</th>\n",
       "      <td>OGLE-SMC-CEP-4622</td>\n",
       "      <td>1.404808</td>\n",
       "      <td>-73.269361</td>\n",
       "      <td>1</td>\n",
       "      <td>SMC</td>\n",
       "      <td>15.94460</td>\n",
       "      <td>0.141140</td>\n",
       "      <td>0.648</td>\n",
       "    </tr>\n",
       "    <tr>\n",
       "      <th>7265</th>\n",
       "      <td>OGLE-SMC-CEP-4624</td>\n",
       "      <td>1.406767</td>\n",
       "      <td>-74.192639</td>\n",
       "      <td>1</td>\n",
       "      <td>SMC</td>\n",
       "      <td>15.29565</td>\n",
       "      <td>0.102449</td>\n",
       "      <td>0.577</td>\n",
       "    </tr>\n",
       "    <tr>\n",
       "      <th>7266</th>\n",
       "      <td>OGLE-SMC-CEP-4625</td>\n",
       "      <td>1.407181</td>\n",
       "      <td>-72.936056</td>\n",
       "      <td>1</td>\n",
       "      <td>SMC</td>\n",
       "      <td>15.33725</td>\n",
       "      <td>0.074740</td>\n",
       "      <td>0.485</td>\n",
       "    </tr>\n",
       "    <tr>\n",
       "      <th>7267</th>\n",
       "      <td>OGLE-SMC-CEP-4627</td>\n",
       "      <td>1.413575</td>\n",
       "      <td>-72.599167</td>\n",
       "      <td>1</td>\n",
       "      <td>SMC</td>\n",
       "      <td>14.06670</td>\n",
       "      <td>0.501477</td>\n",
       "      <td>0.686</td>\n",
       "    </tr>\n",
       "  </tbody>\n",
       "</table>\n",
       "<p>4676 rows × 8 columns</p>\n",
       "</div>"
      ],
      "text/plain": [
       "                   name       RA0      Decl0 Mode Cloud         W     logP1  \\\n",
       "0     OGLE-LMC-CEP-0002  4.529733 -69.819330    F   LMC  14.52500  0.493893   \n",
       "2     OGLE-LMC-CEP-0012  4.630203 -67.214420    F   LMC  14.54210  0.424912   \n",
       "4     OGLE-LMC-CEP-0017  4.649119 -69.688390    F   LMC  14.34215  0.565524   \n",
       "7     OGLE-LMC-CEP-0023  4.679856 -68.985640    F   LMC  15.21055  0.230915   \n",
       "8     OGLE-LMC-CEP-0025  4.681769 -69.115080    F   LMC  14.08130  0.572116   \n",
       "...                 ...       ...        ...  ...   ...       ...       ...   \n",
       "7261  OGLE-SMC-CEP-4615  1.381036 -72.950861    1   SMC  15.83360 -0.080684   \n",
       "7264  OGLE-SMC-CEP-4622  1.404808 -73.269361    1   SMC  15.94460  0.141140   \n",
       "7265  OGLE-SMC-CEP-4624  1.406767 -74.192639    1   SMC  15.29565  0.102449   \n",
       "7266  OGLE-SMC-CEP-4625  1.407181 -72.936056    1   SMC  15.33725  0.074740   \n",
       "7267  OGLE-SMC-CEP-4627  1.413575 -72.599167    1   SMC  14.06670  0.501477   \n",
       "\n",
       "         VI  \n",
       "0     0.740  \n",
       "2     0.598  \n",
       "4     0.647  \n",
       "7     0.719  \n",
       "8     0.814  \n",
       "...     ...  \n",
       "7261  0.448  \n",
       "7264  0.648  \n",
       "7265  0.577  \n",
       "7266  0.485  \n",
       "7267  0.686  \n",
       "\n",
       "[4676 rows x 8 columns]"
      ]
     },
     "execution_count": 82,
     "metadata": {},
     "output_type": "execute_result"
    }
   ],
   "source": [
    "#slicing data based on conditions\n",
    "df[(df['W']>14) & (df['W']<16)]"
   ]
  },
  {
   "cell_type": "code",
   "execution_count": 83,
   "id": "90e2adcd-0c16-4de1-abdd-3e1631b663d6",
   "metadata": {},
   "outputs": [],
   "source": [
    "#creatinf a new column from existing one\n",
    "df[\"period\"]=10** df['logP1']"
   ]
  },
  {
   "cell_type": "code",
   "execution_count": 85,
   "id": "e32455cb-f339-4411-893b-2eef55f566af",
   "metadata": {},
   "outputs": [],
   "source": [
    "#additional data\n",
    "additional_data=pd.DataFrame(\n",
    "    {\n",
    "        'name':[\"OGLE-LMC-CEP-0012\",\"OGLE-LMC-CEP-0005\"],\n",
    "        'extra_info': ['interesting star','rare star']\n",
    "    }\n",
    ")"
   ]
  },
  {
   "cell_type": "code",
   "execution_count": 88,
   "id": "8c7ca1bb-b06c-4f3f-99e1-cc5498a3940a",
   "metadata": {},
   "outputs": [
    {
     "data": {
      "text/html": [
       "<div>\n",
       "<style scoped>\n",
       "    .dataframe tbody tr th:only-of-type {\n",
       "        vertical-align: middle;\n",
       "    }\n",
       "\n",
       "    .dataframe tbody tr th {\n",
       "        vertical-align: top;\n",
       "    }\n",
       "\n",
       "    .dataframe thead th {\n",
       "        text-align: right;\n",
       "    }\n",
       "</style>\n",
       "<table border=\"1\" class=\"dataframe\">\n",
       "  <thead>\n",
       "    <tr style=\"text-align: right;\">\n",
       "      <th></th>\n",
       "      <th>name</th>\n",
       "      <th>RA0</th>\n",
       "      <th>Decl0</th>\n",
       "      <th>Mode</th>\n",
       "      <th>Cloud</th>\n",
       "      <th>W</th>\n",
       "      <th>logP1</th>\n",
       "      <th>VI</th>\n",
       "      <th>period</th>\n",
       "      <th>extra_info</th>\n",
       "    </tr>\n",
       "  </thead>\n",
       "  <tbody>\n",
       "    <tr>\n",
       "      <th>0</th>\n",
       "      <td>OGLE-LMC-CEP-0002</td>\n",
       "      <td>4.529733</td>\n",
       "      <td>-69.81933</td>\n",
       "      <td>F</td>\n",
       "      <td>LMC</td>\n",
       "      <td>14.52500</td>\n",
       "      <td>0.493893</td>\n",
       "      <td>0.740</td>\n",
       "      <td>3.118119</td>\n",
       "      <td>NaN</td>\n",
       "    </tr>\n",
       "    <tr>\n",
       "      <th>1</th>\n",
       "      <td>OGLE-LMC-CEP-0005</td>\n",
       "      <td>4.592089</td>\n",
       "      <td>-69.73497</td>\n",
       "      <td>F</td>\n",
       "      <td>LMC</td>\n",
       "      <td>13.49540</td>\n",
       "      <td>0.749122</td>\n",
       "      <td>0.752</td>\n",
       "      <td>5.612058</td>\n",
       "      <td>rare star</td>\n",
       "    </tr>\n",
       "    <tr>\n",
       "      <th>2</th>\n",
       "      <td>OGLE-LMC-CEP-0012</td>\n",
       "      <td>4.630203</td>\n",
       "      <td>-67.21442</td>\n",
       "      <td>F</td>\n",
       "      <td>LMC</td>\n",
       "      <td>14.54210</td>\n",
       "      <td>0.424912</td>\n",
       "      <td>0.598</td>\n",
       "      <td>2.660188</td>\n",
       "      <td>interesting star</td>\n",
       "    </tr>\n",
       "    <tr>\n",
       "      <th>3</th>\n",
       "      <td>OGLE-LMC-CEP-0016</td>\n",
       "      <td>4.642367</td>\n",
       "      <td>-67.64631</td>\n",
       "      <td>F</td>\n",
       "      <td>LMC</td>\n",
       "      <td>12.03300</td>\n",
       "      <td>1.021456</td>\n",
       "      <td>1.080</td>\n",
       "      <td>10.506456</td>\n",
       "      <td>NaN</td>\n",
       "    </tr>\n",
       "    <tr>\n",
       "      <th>4</th>\n",
       "      <td>OGLE-LMC-CEP-0017</td>\n",
       "      <td>4.649119</td>\n",
       "      <td>-69.68839</td>\n",
       "      <td>F</td>\n",
       "      <td>LMC</td>\n",
       "      <td>14.34215</td>\n",
       "      <td>0.565524</td>\n",
       "      <td>0.647</td>\n",
       "      <td>3.677256</td>\n",
       "      <td>NaN</td>\n",
       "    </tr>\n",
       "  </tbody>\n",
       "</table>\n",
       "</div>"
      ],
      "text/plain": [
       "                name       RA0     Decl0 Mode Cloud         W     logP1  \\\n",
       "0  OGLE-LMC-CEP-0002  4.529733 -69.81933    F   LMC  14.52500  0.493893   \n",
       "1  OGLE-LMC-CEP-0005  4.592089 -69.73497    F   LMC  13.49540  0.749122   \n",
       "2  OGLE-LMC-CEP-0012  4.630203 -67.21442    F   LMC  14.54210  0.424912   \n",
       "3  OGLE-LMC-CEP-0016  4.642367 -67.64631    F   LMC  12.03300  1.021456   \n",
       "4  OGLE-LMC-CEP-0017  4.649119 -69.68839    F   LMC  14.34215  0.565524   \n",
       "\n",
       "      VI     period        extra_info  \n",
       "0  0.740   3.118119               NaN  \n",
       "1  0.752   5.612058         rare star  \n",
       "2  0.598   2.660188  interesting star  \n",
       "3  1.080  10.506456               NaN  \n",
       "4  0.647   3.677256               NaN  "
      ]
     },
     "execution_count": 88,
     "metadata": {},
     "output_type": "execute_result"
    }
   ],
   "source": [
    "merged_df=pd.merge(df, additional_data, on='name', how='left')\n",
    "merged_df.head()"
   ]
  },
  {
   "cell_type": "code",
   "execution_count": 89,
   "id": "3deeedaa-5512-41fb-a45b-5f0e9ee202d8",
   "metadata": {},
   "outputs": [
    {
     "data": {
      "text/html": [
       "<div>\n",
       "<style scoped>\n",
       "    .dataframe tbody tr th:only-of-type {\n",
       "        vertical-align: middle;\n",
       "    }\n",
       "\n",
       "    .dataframe tbody tr th {\n",
       "        vertical-align: top;\n",
       "    }\n",
       "\n",
       "    .dataframe thead th {\n",
       "        text-align: right;\n",
       "    }\n",
       "</style>\n",
       "<table border=\"1\" class=\"dataframe\">\n",
       "  <thead>\n",
       "    <tr style=\"text-align: right;\">\n",
       "      <th></th>\n",
       "      <th>RA0</th>\n",
       "      <th>Decl0</th>\n",
       "      <th>W</th>\n",
       "      <th>logP1</th>\n",
       "      <th>VI</th>\n",
       "      <th>period</th>\n",
       "    </tr>\n",
       "  </thead>\n",
       "  <tbody>\n",
       "    <tr>\n",
       "      <th>count</th>\n",
       "      <td>7269.000000</td>\n",
       "      <td>7269.000000</td>\n",
       "      <td>7269.000000</td>\n",
       "      <td>7269.000000</td>\n",
       "      <td>7269.000000</td>\n",
       "      <td>7269.000000</td>\n",
       "    </tr>\n",
       "    <tr>\n",
       "      <th>mean</th>\n",
       "      <td>2.767016</td>\n",
       "      <td>-71.554803</td>\n",
       "      <td>14.815904</td>\n",
       "      <td>0.356864</td>\n",
       "      <td>0.686588</td>\n",
       "      <td>3.011408</td>\n",
       "    </tr>\n",
       "    <tr>\n",
       "      <th>std</th>\n",
       "      <td>2.189550</td>\n",
       "      <td>1.895974</td>\n",
       "      <td>1.083046</td>\n",
       "      <td>0.304543</td>\n",
       "      <td>0.138857</td>\n",
       "      <td>3.248997</td>\n",
       "    </tr>\n",
       "    <tr>\n",
       "      <th>min</th>\n",
       "      <td>0.335519</td>\n",
       "      <td>-74.798720</td>\n",
       "      <td>10.205350</td>\n",
       "      <td>-0.604866</td>\n",
       "      <td>0.037000</td>\n",
       "      <td>0.248390</td>\n",
       "    </tr>\n",
       "    <tr>\n",
       "      <th>25%</th>\n",
       "      <td>0.886253</td>\n",
       "      <td>-73.159889</td>\n",
       "      <td>14.109850</td>\n",
       "      <td>0.157164</td>\n",
       "      <td>0.600000</td>\n",
       "      <td>1.436031</td>\n",
       "    </tr>\n",
       "    <tr>\n",
       "      <th>50%</th>\n",
       "      <td>1.132164</td>\n",
       "      <td>-72.250694</td>\n",
       "      <td>14.743000</td>\n",
       "      <td>0.332909</td>\n",
       "      <td>0.671000</td>\n",
       "      <td>2.152330</td>\n",
       "    </tr>\n",
       "    <tr>\n",
       "      <th>75%</th>\n",
       "      <td>5.255658</td>\n",
       "      <td>-69.940830</td>\n",
       "      <td>15.700050</td>\n",
       "      <td>0.533287</td>\n",
       "      <td>0.752000</td>\n",
       "      <td>3.414188</td>\n",
       "    </tr>\n",
       "    <tr>\n",
       "      <th>max</th>\n",
       "      <td>6.221094</td>\n",
       "      <td>-66.579139</td>\n",
       "      <td>18.463400</td>\n",
       "      <td>1.838770</td>\n",
       "      <td>2.161000</td>\n",
       "      <td>68.987498</td>\n",
       "    </tr>\n",
       "  </tbody>\n",
       "</table>\n",
       "</div>"
      ],
      "text/plain": [
       "               RA0        Decl0            W        logP1           VI  \\\n",
       "count  7269.000000  7269.000000  7269.000000  7269.000000  7269.000000   \n",
       "mean      2.767016   -71.554803    14.815904     0.356864     0.686588   \n",
       "std       2.189550     1.895974     1.083046     0.304543     0.138857   \n",
       "min       0.335519   -74.798720    10.205350    -0.604866     0.037000   \n",
       "25%       0.886253   -73.159889    14.109850     0.157164     0.600000   \n",
       "50%       1.132164   -72.250694    14.743000     0.332909     0.671000   \n",
       "75%       5.255658   -69.940830    15.700050     0.533287     0.752000   \n",
       "max       6.221094   -66.579139    18.463400     1.838770     2.161000   \n",
       "\n",
       "            period  \n",
       "count  7269.000000  \n",
       "mean      3.011408  \n",
       "std       3.248997  \n",
       "min       0.248390  \n",
       "25%       1.436031  \n",
       "50%       2.152330  \n",
       "75%       3.414188  \n",
       "max      68.987498  "
      ]
     },
     "execution_count": 89,
     "metadata": {},
     "output_type": "execute_result"
    }
   ],
   "source": [
    "df.describe()"
   ]
  },
  {
   "cell_type": "code",
   "execution_count": null,
   "id": "2387c4dd-2adf-4f2e-a272-0702d1d109ce",
   "metadata": {},
   "outputs": [],
   "source": [
    "#applying function to a particular column\n",
    "df['W'].apply()"
   ]
  },
  {
   "cell_type": "code",
   "execution_count": 90,
   "id": "edfc189d-e1fb-4d7c-8bda-8c0453fcd822",
   "metadata": {},
   "outputs": [],
   "source": [
    "#Curves"
   ]
  },
  {
   "cell_type": "code",
   "execution_count": null,
   "id": "21d00bc1-0e81-4a08-9e42-bc99a733ea87",
   "metadata": {},
   "outputs": [],
   "source": []
  }
 ],
 "metadata": {
  "kernelspec": {
   "display_name": "Python 3 (ipykernel)",
   "language": "python",
   "name": "python3"
  },
  "language_info": {
   "codemirror_mode": {
    "name": "ipython",
    "version": 3
   },
   "file_extension": ".py",
   "mimetype": "text/x-python",
   "name": "python",
   "nbconvert_exporter": "python",
   "pygments_lexer": "ipython3",
   "version": "3.11.4"
  }
 },
 "nbformat": 4,
 "nbformat_minor": 5
}
