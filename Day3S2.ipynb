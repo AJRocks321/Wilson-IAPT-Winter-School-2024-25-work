{
 "cells": [
  {
   "cell_type": "markdown",
   "id": "12fd71b2-d2fb-4f14-86b7-0c6f3cca6d04",
   "metadata": {},
   "source": [
    "# SDSS Analysis"
   ]
  },
  {
   "cell_type": "code",
   "execution_count": null,
   "id": "b1be3c9e-6eca-4976-8c59-b03ad7a74f44",
   "metadata": {},
   "outputs": [],
   "source": []
  }
 ],
 "metadata": {
  "kernelspec": {
   "display_name": "Python 3 (ipykernel)",
   "language": "python",
   "name": "python3"
  },
  "language_info": {
   "codemirror_mode": {
    "name": "ipython",
    "version": 3
   },
   "file_extension": ".py",
   "mimetype": "text/x-python",
   "name": "python",
   "nbconvert_exporter": "python",
   "pygments_lexer": "ipython3",
   "version": "3.11.4"
  }
 },
 "nbformat": 4,
 "nbformat_minor": 5
}
